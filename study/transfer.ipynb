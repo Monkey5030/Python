{
 "cells": [
  {
   "cell_type": "code",
   "execution_count": 1,
   "metadata": {},
   "outputs": [],
   "source": [
    "#encoding=utf-8\n",
    "import pymysql\n",
    "import logging\n",
    "from pymysql.converters import escape_string"
   ]
  },
  {
   "cell_type": "code",
   "execution_count": 2,
   "metadata": {},
   "outputs": [],
   "source": [
    "logging.basicConfig(level=logging.INFO)"
   ]
  },
  {
   "cell_type": "code",
   "execution_count": 3,
   "metadata": {},
   "outputs": [],
   "source": [
    "#获取连接\n",
    "conn=pymysql.Connect(host='127.0.0.1',user='root',password='popeye12.',database='work')\n",
    "#创建游标\n",
    "cur=conn.cursor()"
   ]
  },
  {
   "cell_type": "code",
   "execution_count": 4,
   "metadata": {},
   "outputs": [],
   "source": [
    "sql='select * from work.area_code_2021 limit 10;'"
   ]
  },
  {
   "cell_type": "code",
   "execution_count": 5,
   "metadata": {},
   "outputs": [
    {
     "data": {
      "text/plain": [
       "10"
      ]
     },
     "execution_count": 5,
     "metadata": {},
     "output_type": "execute_result"
    }
   ],
   "source": [
    "cur.execute(sql)"
   ]
  },
  {
   "cell_type": "code",
   "execution_count": 6,
   "metadata": {},
   "outputs": [],
   "source": [
    "# logging.debug([i for i in cur.fetchmany(10)])"
   ]
  },
  {
   "cell_type": "code",
   "execution_count": 7,
   "metadata": {},
   "outputs": [
    {
     "name": "stderr",
     "output_type": "stream",
     "text": [
      "INFO:root:[('110000000000', '北京市', 1, '0'), ('110100000000', '市辖区', 2, '110000000000'), ('110101000000', '东城区', 3, '110100000000'), ('110101001000', '东华门街道', 4, '110101000000'), ('110101001001', '多福巷社区居委会', 5, '110101001000'), ('110101001002', '银闸社区居委会', 5, '110101001000'), ('110101001005', '东厂社区居委会', 5, '110101001000'), ('110101001006', '智德社区居委会', 5, '110101001000'), ('110101001007', '南池子社区居委会', 5, '110101001000'), ('110101001008', '黄图岗社区居委会', 5, '110101001000')]\n"
     ]
    }
   ],
   "source": [
    "logging.info([i for i in cur.fetchall()])"
   ]
  },
  {
   "cell_type": "code",
   "execution_count": 8,
   "metadata": {},
   "outputs": [],
   "source": [
    "# create_sql='create table work.415 (id int primary key,path varchar(200))'"
   ]
  },
  {
   "cell_type": "code",
   "execution_count": 9,
   "metadata": {},
   "outputs": [],
   "source": [
    "# cur.execute(create_sql)"
   ]
  },
  {
   "cell_type": "code",
   "execution_count": 10,
   "metadata": {},
   "outputs": [
    {
     "name": "stderr",
     "output_type": "stream",
     "text": [
      "INFO:root:insert into work.test0415 (path) values(\"D:\\\\视频教程\\\\大数据\\\\【开课吧】廖雪峰 · 2019大数据分析\\\\开课吧介绍\")\n"
     ]
    }
   ],
   "source": [
    "# json.dumps\n",
    "s1=r'D:\\视频教程\\大数据\\【开课吧】廖雪峰 · 2019大数据分析\\开课吧介绍'\n",
    "import json\n",
    "insert_sql='insert into work.test0415 (path) values(%s)'%json.dumps(s1,ensure_ascii=False)\n",
    "logging.info(insert_sql)\n",
    "cur.execute(insert_sql)\n",
    "conn.commit()"
   ]
  },
  {
   "cell_type": "code",
   "execution_count": 11,
   "metadata": {},
   "outputs": [
    {
     "name": "stderr",
     "output_type": "stream",
     "text": [
      "INFO:root:insert into work.test0415 (path) values(\"D:\\\\视频教程\\\\大数据\\\\【开课吧】廖雪峰 · 2019大数据分析\\\\开课吧介绍\")\n",
      "INFO:root:insert into work.test0415 (path) values(\"D:\\\\视频教程\\\\大数据\\\\【开课吧】廖雪峰 · 2019大数据分析\\\\开课吧介绍\")\n"
     ]
    }
   ],
   "source": [
    "# pymysql.escape_string\n",
    "s2=r'D:\\视频教程\\大数据\\【开课吧】廖雪峰 · 2019大数据分析\\开课吧介绍'\n",
    "insert_sql='insert into work.test0415 (path) values(\"%s\")'%pymysql.escape_string(s2)\n",
    "logging.info(insert_sql)\n",
    "cur.execute(insert_sql)\n",
    "conn.commit()\n",
    "s3=r'D:\\视频教程\\大数据\\【开课吧】廖雪峰 · 2019大数据分析\\开课吧介绍'\n",
    "s3=pymysql.escape_string(s3)\n",
    "insert_sql=f'''insert into work.test0415 (path) values(\"{s3}\")'''\n",
    "logging.info(insert_sql)\n",
    "cur.execute(insert_sql)\n",
    "conn.commit()"
   ]
  }
 ],
 "metadata": {
  "kernelspec": {
   "display_name": "Python 3",
   "language": "python",
   "name": "python3"
  },
  "language_info": {
   "codemirror_mode": {
    "name": "ipython",
    "version": 3
   },
   "file_extension": ".py",
   "mimetype": "text/x-python",
   "name": "python",
   "nbconvert_exporter": "python",
   "pygments_lexer": "ipython3",
   "version": "3.7.0"
  }
 },
 "nbformat": 4,
 "nbformat_minor": 2
}
