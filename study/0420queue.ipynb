{
 "cells": [
  {
   "cell_type": "code",
   "execution_count": 1,
   "metadata": {},
   "outputs": [],
   "source": [
    "from collections import deque"
   ]
  },
  {
   "cell_type": "code",
   "execution_count": 2,
   "metadata": {},
   "outputs": [],
   "source": [
    "info='''\n",
    "https://docs.python.org/zh-cn/3/library/collections.html\n",
    "class collections.deque([iterable[, maxlen]])\n",
    "返回一个新的双向队列对象，从左到右初始化(用方法 append()) ，从 iterable （迭代对象) 数据创建。如果 iterable 没有指定，新队列为空。\n",
    "\n",
    "Deque队列是由栈或者queue队列生成的（发音是 “deck”，”double-ended queue”的简称）。Deque 支持线程安全，内存高效添加(append)和弹出(pop)，从两端都可以，两个方向的大概开销都是 O(1) 复杂度。\n",
    "\n",
    "虽然 list 对象也支持类似操作，不过这里优化了定长操作和 pop(0) 和 insert(0, v) 的开销。它们引起 O(n) 内存移动的操作，改变底层数据表达的大小和位置。\n",
    "\n",
    "如果 maxlen 没有指定或者是 None ，deques 可以增长到任意长度。否则，deque就限定到指定最大长度。一旦限定长度的deque满了，当新项加入时，同样数量的项就从另一端弹出。限定长度deque提供类似Unix filter tail 的功能。它们同样可以用与追踪最近的交换和其他数据池活动。\n",
    "\n",
    "双向队列(deque)对象支持以下方法：\n",
    "\n",
    "append(x)\n",
    "添加 x 到右端。\n",
    "\n",
    "appendleft(x)\n",
    "添加 x 到左端。\n",
    "\n",
    "clear()\n",
    "移除所有元素，使其长度为0.\n",
    "\n",
    "copy()\n",
    "创建一份浅拷贝。\n",
    "\n",
    "3.5 新版功能.\n",
    "\n",
    "count(x)\n",
    "计算 deque 中元素等于 x 的个数。\n",
    "\n",
    "3.2 新版功能.\n",
    "\n",
    "extend(iterable)\n",
    "扩展deque的右侧，通过添加iterable参数中的元素。\n",
    "\n",
    "extendleft(iterable)\n",
    "扩展deque的左侧，通过添加iterable参数中的元素。注意，左添加时，在结果中iterable参数中的顺序将被反过来添加。\n",
    "\n",
    "index(x[, start[, stop]])\n",
    "返回 x 在 deque 中的位置（在索引 start 之后，索引 stop 之前）。 返回第一个匹配项，如果未找到则引发 ValueError。\n",
    "\n",
    "3.5 新版功能.\n",
    "\n",
    "insert(i, x)\n",
    "在位置 i 插入 x 。\n",
    "\n",
    "如果插入会导致一个限长 deque 超出长度 maxlen 的话，就引发一个 IndexError。\n",
    "\n",
    "3.5 新版功能.\n",
    "\n",
    "pop()\n",
    "移去并且返回一个元素，deque 最右侧的那一个。 如果没有元素的话，就引发一个 IndexError。\n",
    "\n",
    "popleft()\n",
    "移去并且返回一个元素，deque 最左侧的那一个。 如果没有元素的话，就引发 IndexError。\n",
    "\n",
    "remove(value)\n",
    "移除找到的第一个 value。 如果没有的话就引发 ValueError。\n",
    "\n",
    "reverse()\n",
    "将deque逆序排列。返回 None 。\n",
    "\n",
    "3.2 新版功能.\n",
    "\n",
    "rotate(n=1)\n",
    "向右循环移动 n 步。 如果 n 是负数，就向左循环。\n",
    "\n",
    "如果deque不是空的，向右循环移动一步就等价于 d.appendleft(d.pop()) ， 向左循环一步就等价于 d.append(d.popleft()) 。\n",
    "\n",
    "Deque对象同样提供了一个只读属性:\n",
    "\n",
    "maxlen\n",
    "Deque的最大尺寸，如果没有限定的话就是 None 。\n",
    "\n",
    "除了以上操作，deque 还支持迭代、封存、len(d)、reversed(d)、copy.copy(d)、copy.deepcopy(d)、成员检测运算符 in \n",
    "以及下标引用例如通过 d[0] 访问首个元素等。 索引访问在两端的复杂度均为 O(1) 但在中间则会低至 O(n)。 如需快速随机访问，\n",
    "请改用列表。'''"
   ]
  },
  {
   "cell_type": "code",
   "execution_count": 3,
   "metadata": {},
   "outputs": [],
   "source": [
    "def palchecker(aString):\n",
    "    chardeque = deque()\n",
    "    for ch in aString:\n",
    "        chardeque.appendleft(ch)\n",
    "    stillEqual = True\n",
    "    while len(chardeque)> 1 and stillEqual:\n",
    "        first = chardeque.popleft()\n",
    "        last = chardeque.pop()\n",
    "        if first != last:\n",
    "            stillEqual = False\n",
    "    \n",
    "    return stillEqual"
   ]
  },
  {
   "cell_type": "code",
   "execution_count": 4,
   "metadata": {},
   "outputs": [
    {
     "data": {
      "text/plain": [
       "True"
      ]
     },
     "execution_count": 4,
     "metadata": {},
     "output_type": "execute_result"
    }
   ],
   "source": [
    "palchecker('radar')"
   ]
  },
  {
   "cell_type": "code",
   "execution_count": 5,
   "metadata": {},
   "outputs": [],
   "source": [
    "q=deque()"
   ]
  },
  {
   "cell_type": "code",
   "execution_count": 6,
   "metadata": {},
   "outputs": [],
   "source": [
    "q.append(1)"
   ]
  },
  {
   "cell_type": "code",
   "execution_count": 7,
   "metadata": {},
   "outputs": [],
   "source": [
    "q.appendleft('tom')"
   ]
  },
  {
   "cell_type": "code",
   "execution_count": 8,
   "metadata": {},
   "outputs": [
    {
     "data": {
      "text/plain": [
       "deque(['tom', 1])"
      ]
     },
     "execution_count": 8,
     "metadata": {},
     "output_type": "execute_result"
    }
   ],
   "source": [
    "q"
   ]
  },
  {
   "cell_type": "code",
   "execution_count": 9,
   "metadata": {},
   "outputs": [],
   "source": [
    "q.append('a')"
   ]
  },
  {
   "cell_type": "code",
   "execution_count": 10,
   "metadata": {},
   "outputs": [],
   "source": [
    "q.append(True)"
   ]
  },
  {
   "cell_type": "code",
   "execution_count": 11,
   "metadata": {},
   "outputs": [
    {
     "data": {
      "text/plain": [
       "deque(['tom', 1, 'a', True])"
      ]
     },
     "execution_count": 11,
     "metadata": {},
     "output_type": "execute_result"
    }
   ],
   "source": [
    "q"
   ]
  },
  {
   "cell_type": "code",
   "execution_count": 12,
   "metadata": {},
   "outputs": [
    {
     "data": {
      "text/plain": [
       "deque(['a', 'b', 'c'])"
      ]
     },
     "execution_count": 12,
     "metadata": {},
     "output_type": "execute_result"
    }
   ],
   "source": [
    "\n",
    "deque(['a', 'b', 'c'])"
   ]
  },
  {
   "cell_type": "code",
   "execution_count": 13,
   "metadata": {},
   "outputs": [],
   "source": [
    "q1=deque(['a', 'b', 'c'])"
   ]
  },
  {
   "cell_type": "code",
   "execution_count": 14,
   "metadata": {},
   "outputs": [
    {
     "data": {
      "text/plain": [
       "deque(['a', 'b', 'c'])"
      ]
     },
     "execution_count": 14,
     "metadata": {},
     "output_type": "execute_result"
    }
   ],
   "source": [
    "q1"
   ]
  },
  {
   "cell_type": "code",
   "execution_count": 15,
   "metadata": {},
   "outputs": [],
   "source": [
    "q.extend([1,2,4])"
   ]
  },
  {
   "cell_type": "code",
   "execution_count": 16,
   "metadata": {},
   "outputs": [
    {
     "data": {
      "text/plain": [
       "deque(['tom', 1, 'a', True, 1, 2, 4])"
      ]
     },
     "execution_count": 16,
     "metadata": {},
     "output_type": "execute_result"
    }
   ],
   "source": [
    "q"
   ]
  },
  {
   "cell_type": "code",
   "execution_count": 17,
   "metadata": {},
   "outputs": [],
   "source": [
    "q.extendleft([{'name':'tom'},(1,5,2)])"
   ]
  },
  {
   "cell_type": "code",
   "execution_count": 18,
   "metadata": {},
   "outputs": [
    {
     "data": {
      "text/plain": [
       "deque([(1, 5, 2), {'name': 'tom'}, 'tom', 1, 'a', True, 1, 2, 4])"
      ]
     },
     "execution_count": 18,
     "metadata": {},
     "output_type": "execute_result"
    }
   ],
   "source": [
    "q"
   ]
  },
  {
   "cell_type": "code",
   "execution_count": 19,
   "metadata": {},
   "outputs": [],
   "source": [
    "q.extendleft((1,5,2))"
   ]
  },
  {
   "cell_type": "code",
   "execution_count": 20,
   "metadata": {},
   "outputs": [
    {
     "data": {
      "text/plain": [
       "deque([2, 5, 1, (1, 5, 2), {'name': 'tom'}, 'tom', 1, 'a', True, 1, 2, 4])"
      ]
     },
     "execution_count": 20,
     "metadata": {},
     "output_type": "execute_result"
    }
   ],
   "source": [
    "q"
   ]
  },
  {
   "cell_type": "code",
   "execution_count": 21,
   "metadata": {},
   "outputs": [],
   "source": [
    "q.extend({1,2,3,1,2,6,12,12,121,11})"
   ]
  },
  {
   "cell_type": "code",
   "execution_count": 22,
   "metadata": {},
   "outputs": [
    {
     "data": {
      "text/plain": [
       "deque([2,\n",
       "       5,\n",
       "       1,\n",
       "       (1, 5, 2),\n",
       "       {'name': 'tom'},\n",
       "       'tom',\n",
       "       1,\n",
       "       'a',\n",
       "       True,\n",
       "       1,\n",
       "       2,\n",
       "       4,\n",
       "       1,\n",
       "       2,\n",
       "       3,\n",
       "       6,\n",
       "       11,\n",
       "       12,\n",
       "       121])"
      ]
     },
     "execution_count": 22,
     "metadata": {},
     "output_type": "execute_result"
    }
   ],
   "source": [
    "q"
   ]
  },
  {
   "cell_type": "code",
   "execution_count": null,
   "metadata": {},
   "outputs": [],
   "source": []
  }
 ],
 "metadata": {
  "kernelspec": {
   "display_name": "Python 3",
   "language": "python",
   "name": "python3"
  },
  "language_info": {
   "codemirror_mode": {
    "name": "ipython",
    "version": 3
   },
   "file_extension": ".py",
   "mimetype": "text/x-python",
   "name": "python",
   "nbconvert_exporter": "python",
   "pygments_lexer": "ipython3",
   "version": "3.7.0"
  }
 },
 "nbformat": 4,
 "nbformat_minor": 2
}
